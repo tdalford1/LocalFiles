{
 "cells": [
  {
   "cell_type": "markdown",
   "metadata": {},
   "source": [
    "# Figure 3 Example\n",
    "\n",
    "This notebook provides some example usage of the data release associated with figure 3 of [Abbott et al. (2018)](https://arxiv.org/abs/1805.11579).\n",
    "\n",
    "This will use some plotting routines from [`ligo.skymap`](https://leo-singer.docs.ligo.org/ligo.skymap/), which is a `pip install` away."
   ]
  },
  {
   "cell_type": "code",
   "execution_count": 1,
   "metadata": {
    "collapsed": false,
    "scrolled": false
   },
   "outputs": [
    {
     "name": "stdout",
     "output_type": "stream",
     "text": [
      "Collecting ligo.skymap\n",
      "  Downloading https://files.pythonhosted.org/packages/a4/ef/1d264bba7a2bc6c52e937e26e5b53d7d14ad09bbe87fb7b14b21ed0d9497/ligo.skymap-0.0.10-cp36-cp36m-macosx_10_13_x86_64.whl (1.2MB)\n",
      "\u001b[K    100% |████████████████████████████████| 1.2MB 434kB/s ta 0:00:011\n",
      "\u001b[?25hCollecting shapely (from ligo.skymap)\n",
      "  Downloading https://files.pythonhosted.org/packages/c8/7f/a47c3899460e8b99130048b398ab6e16945ed7f71df60ec7bf816c74128a/Shapely-1.6.4.post1-cp36-cp36m-macosx_10_9_intel.macosx_10_9_x86_64.whl (1.5MB)\n",
      "\u001b[K    100% |████████████████████████████████| 1.6MB 247kB/s ta 0:00:011    84% |███████████████████████████     | 1.3MB 13.9MB/s eta 0:00:01\n",
      "\u001b[?25hCollecting seaborn>=0.8.0 (from ligo.skymap)\n",
      "  Downloading https://files.pythonhosted.org/packages/10/01/dd1c7838cde3b69b247aaeb61016e238cafd8188a276e366d36aa6bcdab4/seaborn-0.8.1.tar.gz (178kB)\n",
      "\u001b[K    100% |████████████████████████████████| 184kB 2.2MB/s ta 0:00:01\n",
      "\u001b[?25hCollecting astroplan (from ligo.skymap)\n",
      "  Downloading https://files.pythonhosted.org/packages/a0/10/c292c84060d1c5cdf9f22b11b1162714a3c725d8ef365c484596efdd938c/astroplan-0.4.tar.gz (266kB)\n",
      "\u001b[K    100% |████████████████████████████████| 276kB 1.5MB/s ta 0:00:01\n",
      "\u001b[?25hRequirement already satisfied: h5py in /Users/tommyalford/anaconda/lib/python3.6/site-packages (from ligo.skymap)\n",
      "Collecting lalsuite (from ligo.skymap)\n",
      "  Downloading https://files.pythonhosted.org/packages/a5/5b/83d17c54ac537ef7b1770effc1c4fc912d19fec47d7946c3d79934f8333b/lalsuite-6.48.1.dev20180608-cp36-cp36m-macosx_10_11_x86_64.whl (21.6MB)\n",
      "\u001b[K    100% |████████████████████████████████| 21.6MB 23kB/s eta 0:00:011    74% |████████████████████████        | 16.2MB 8.6MB/s eta 0:00:01\n",
      "\u001b[?25hCollecting ptemcee (from ligo.skymap)\n",
      "  Downloading https://files.pythonhosted.org/packages/81/1d/2b3f09f0eb3ce8530e59b03e1aab4bc260cc14ddbc7dad761f9107d944e6/ptemcee-1.0.0.tar.gz\n",
      "Collecting tqdm (from ligo.skymap)\n",
      "  Downloading https://files.pythonhosted.org/packages/93/24/6ab1df969db228aed36a648a8959d1027099ce45fad67532b9673d533318/tqdm-4.23.4-py2.py3-none-any.whl (42kB)\n",
      "\u001b[K    100% |████████████████████████████████| 51kB 2.3MB/s eta 0:00:01\n",
      "\u001b[?25hRequirement already satisfied: scipy>=0.14 in /Users/tommyalford/anaconda/lib/python3.6/site-packages (from ligo.skymap)\n",
      "Collecting matplotlib>=2.1.0 (from ligo.skymap)\n",
      "  Downloading https://files.pythonhosted.org/packages/8a/d5/5337662b714c65100f3545ed3909e9478614d1ebf1f692a52981f3f5167b/matplotlib-2.2.2-cp36-cp36m-macosx_10_6_intel.macosx_10_9_intel.macosx_10_9_x86_64.macosx_10_10_intel.macosx_10_10_x86_64.whl (13.7MB)\n",
      "\u001b[K    100% |████████████████████████████████| 13.7MB 33kB/s eta 0:00:011   30% |█████████▉                      | 4.2MB 5.8MB/s eta 0:00:02\n",
      "\u001b[?25hCollecting healpy (from ligo.skymap)\n",
      "  Downloading https://files.pythonhosted.org/packages/49/56/5e1bf4745a770b4e5fa524f34f0ad95e69673b1cb1b3ed0625a4aa2a72f0/healpy-1.11.0.tar.gz (4.0MB)\n",
      "\u001b[K    100% |████████████████████████████████| 4.0MB 110kB/s ta 0:00:011    50% |████████████████                | 2.0MB 8.7MB/s eta 0:00:01\n",
      "\u001b[?25hRequirement already satisfied: networkx in /Users/tommyalford/anaconda/lib/python3.6/site-packages (from ligo.skymap)\n",
      "Collecting astropy>=3.0 (from ligo.skymap)\n",
      "  Downloading https://files.pythonhosted.org/packages/02/43/fb11c837f4ed422d867997db8207c5dd4a3ccccd83b9601d080086832335/astropy-3.0.3-cp36-cp36m-macosx_10_6_intel.macosx_10_9_intel.macosx_10_9_x86_64.macosx_10_10_intel.macosx_10_10_x86_64.whl (7.5MB)\n",
      "\u001b[K    100% |████████████████████████████████| 7.5MB 69kB/s eta 0:00:011    55% |█████████████████▊              | 4.2MB 7.3MB/s eta 0:00:01\n",
      "\u001b[?25hCollecting reproject==0.3.2 (from ligo.skymap)\n",
      "  Downloading https://files.pythonhosted.org/packages/04/19/469356b8a860ed47d24eaa875cd503fdc626eea1b1b1337d3c3fae869b26/reproject-0.3.2.tar.gz (662kB)\n",
      "\u001b[K    100% |████████████████████████████████| 665kB 592kB/s ta 0:00:011\n",
      "\u001b[?25hRequirement already satisfied: pytz in /Users/tommyalford/anaconda/lib/python3.6/site-packages (from ligo.skymap)\n",
      "Collecting lscsoft-glue (from ligo.skymap)\n",
      "  Downloading https://files.pythonhosted.org/packages/41/4d/ae642a10d52ce5b297f69ed36451bc820aff0b6718249b5f2b9654f19ab6/lscsoft-glue-1.59.1.tar.gz (2.5MB)\n",
      "\u001b[K    100% |████████████████████████████████| 2.5MB 180kB/s ta 0:00:011\n",
      "\u001b[?25hCollecting numpy>=1.13 (from ligo.skymap)\n",
      "  Downloading https://files.pythonhosted.org/packages/06/e7/a1d89e97bbf6f8d1329cb495f851637b4578ea18e50eb6c597c7e6fd3468/numpy-1.14.4-cp36-cp36m-macosx_10_6_intel.macosx_10_9_intel.macosx_10_9_x86_64.macosx_10_10_intel.macosx_10_10_x86_64.whl (4.7MB)\n",
      "\u001b[K    100% |████████████████████████████████| 4.7MB 99kB/s eta 0:00:011\n",
      "\u001b[?25hRequirement already satisfied: pillow in /Users/tommyalford/anaconda/lib/python3.6/site-packages (from ligo.skymap)\n",
      "Requirement already satisfied: six in /Users/tommyalford/anaconda/lib/python3.6/site-packages (from h5py->ligo.skymap)\n",
      "Requirement already satisfied: cycler>=0.10 in /Users/tommyalford/anaconda/lib/python3.6/site-packages (from matplotlib>=2.1.0->ligo.skymap)\n",
      "Requirement already satisfied: python-dateutil>=2.1 in /Users/tommyalford/anaconda/lib/python3.6/site-packages (from matplotlib>=2.1.0->ligo.skymap)\n",
      "Collecting kiwisolver>=1.0.1 (from matplotlib>=2.1.0->ligo.skymap)\n",
      "  Downloading https://files.pythonhosted.org/packages/fb/96/619db9bf08f652790fa9f3c3884a67dc43da4bdaa185a5aa2117eb4651e1/kiwisolver-1.0.1-cp36-cp36m-macosx_10_6_intel.macosx_10_9_intel.macosx_10_9_x86_64.macosx_10_10_intel.macosx_10_10_x86_64.whl (108kB)\n",
      "\u001b[K    100% |████████████████████████████████| 112kB 3.4MB/s ta 0:00:01\n",
      "\u001b[?25hRequirement already satisfied: pyparsing!=2.0.4,!=2.1.2,!=2.1.6,>=2.0.1 in /Users/tommyalford/anaconda/lib/python3.6/site-packages (from matplotlib>=2.1.0->ligo.skymap)\n",
      "Requirement already satisfied: decorator>=3.4.0 in /Users/tommyalford/anaconda/lib/python3.6/site-packages (from networkx->ligo.skymap)\n",
      "Requirement already satisfied: pyOpenSSL in /Users/tommyalford/anaconda/lib/python3.6/site-packages (from lscsoft-glue->ligo.skymap)\n",
      "Requirement already satisfied: olefile in /Users/tommyalford/anaconda/lib/python3.6/site-packages (from pillow->ligo.skymap)\n",
      "Requirement already satisfied: setuptools in /Users/tommyalford/anaconda/lib/python3.6/site-packages/setuptools-27.2.0-py3.6.egg (from kiwisolver>=1.0.1->matplotlib>=2.1.0->ligo.skymap)\n",
      "Requirement already satisfied: cryptography>=1.3.4 in /Users/tommyalford/anaconda/lib/python3.6/site-packages (from pyOpenSSL->lscsoft-glue->ligo.skymap)\n",
      "Requirement already satisfied: idna>=2.0 in /Users/tommyalford/anaconda/lib/python3.6/site-packages (from cryptography>=1.3.4->pyOpenSSL->lscsoft-glue->ligo.skymap)\n",
      "Requirement already satisfied: pyasn1>=0.1.8 in /Users/tommyalford/anaconda/lib/python3.6/site-packages (from cryptography>=1.3.4->pyOpenSSL->lscsoft-glue->ligo.skymap)\n",
      "Requirement already satisfied: cffi>=1.4.1 in /Users/tommyalford/anaconda/lib/python3.6/site-packages (from cryptography>=1.3.4->pyOpenSSL->lscsoft-glue->ligo.skymap)\n",
      "Requirement already satisfied: pycparser in /Users/tommyalford/anaconda/lib/python3.6/site-packages (from cffi>=1.4.1->cryptography>=1.3.4->pyOpenSSL->lscsoft-glue->ligo.skymap)\n",
      "Building wheels for collected packages: seaborn, astroplan, ptemcee, healpy, reproject, lscsoft-glue\n",
      "  Running setup.py bdist_wheel for seaborn ... \u001b[?25l-\b \b\\\b \b|\b \bdone\n",
      "\u001b[?25h  Stored in directory: /Users/tommyalford/Library/Caches/pip/wheels/26/0a/44/53ddd89769e62f7c6691976375b86c6492e7dd20a2d3970e32\n",
      "  Running setup.py bdist_wheel for astroplan ... \u001b[?25l-\b \b\\\b \bdone\n",
      "\u001b[?25h  Stored in directory: /Users/tommyalford/Library/Caches/pip/wheels/ea/4d/8e/765bbe02bf38e8bb2e7f400d30b1e1483c264f60776807fe2b\n",
      "  Running setup.py bdist_wheel for ptemcee ... \u001b[?25l-\b \b\\\b \bdone\n",
      "\u001b[?25h  Stored in directory: /Users/tommyalford/Library/Caches/pip/wheels/da/89/43/424c452a5548876bab54b4c57532a19e6557b48f9651e8c79c\n",
      "  Running setup.py bdist_wheel for healpy ... \u001b[?25l-\b \b\\\b \b|\b \b/\b \b-\b \b\\\b \b|\b \b/\b \b-\b \b\\\b \b|\b \b/\b \b-\b \b\\\b \b|\b \b/\b \b-\b \b\\\b \b|\b \b/\b \b-\b \b\\\b \b|\b \b/\b \b-\b \b\\\b \b|\b \b/\b \b-\b \b\\\b \b|\b \b/\b \b-\b \b\\\b \b|\b \b/\b \b-\b \b\\\b \b|\b \b/\b \b-\b \b\\\b \b|\b \b/\b \b-\b \b\\\b \b|\b \b/\b \b-\b \b\\\b \b|\b \b/\b \b-\b \b\\\b \b|\b \b/\b \b-\b \b\\\b \b|\b \b/\b \b-\b \b\\\b \b|\b \b/\b \b-\b \b\\\b \b|\b \b/\b \b-\b \b\\\b \b|\b \b/\b \b-\b \b\\\b \b|\b \b/\b \b-\b \b\\\b \b|\b \b/\b \b-\b \b\\\b \b|\b \b/\b \b-\b \b\\\b \b|\b \b/\b \b-\b \b\\\b \b|\b \b/\b \b-\b \b\\\b \b|\b \b/\b \b-\b \b\\\b \b|\b \b/\b \b-\b \b\\\b \b|\b \b/\b \b-\b \b\\\b \b|\b \b/\b \b-\b \b\\\b \b|\b \b/\b \b-\b \b\\\b \b|\b \b/\b \b-\b \b\\\b \b|\b \b/\b \b-\b \b\\\b \b|\b \b/\b \b-\b \b\\\b \b|\b \b/\b \b-\b \b\\\b \b|\b \b/\b \b-\b \b\\\b \b|\b \b/\b \b-\b \b\\\b \b|\b \b/\b \b-\b \b\\\b \b|\b \b/\b \b-\b \b\\\b \b|\b \b/\b \b-\b \b\\\b \b|\b \b/\b \b-\b \b\\\b \b|\b \b/\b \b-\b \b\\\b \b|\b \b/\b \b-\b \b\\\b \b|\b \b/\b \b-\b \b\\\b \b|\b \b/\b \b-\b \b\\\b \b|\b \b/\b \b-\b \b\\\b \b|\b \b/\b \b-\b \b\\\b \b|\b \b/\b \b-\b \b\\\b \b|\b \b/\b \b-\b \b\\\b \b|\b \b/\b \b-\b \b\\\b \b|\b \b/\b \b-\b \b\\\b \b|\b \b/\b \b-\b \b\\\b \b|\b \b/\b \b-\b \b\\\b \b|\b \b/\b \b-\b \b\\\b \b|\b \b/\b \b-\b \b\\\b \b|\b \b/\b \b-\b \b\\\b \b|\b \b/\b \b-\b \b\\\b \b|\b \b/\b \b-\b \b\\\b \b|\b \b/\b \b-\b \b\\\b \b|\b \b/\b \b-\b \b\\\b \b|\b \b/\b \b-\b \b\\\b \b|\b \b/\b \b-\b \b\\\b \b|\b \b/\b \b-\b \b\\\b \b|\b \b/\b \b-\b \b\\\b \b|\b \b/\b \b-\b \b\\\b \b|\b \b/\b \b-\b \b\\\b \b|\b \b/\b \b-\b \b\\\b \b|\b \b/\b \b-\b \b\\\b \b|\b \b/\b \b-\b \b\\\b \b|\b \b/\b \b-\b \b\\\b \b|\b \b/\b \b-\b \b\\\b \b|\b \b/\b \b-\b \b\\\b \b|\b \b/\b \b-\b \b\\\b \b|\b \b/\b \b-\b \b\\\b \b|\b \b/\b \b-\b \b\\\b \b|\b \b/\b \b-\b \b\\\b \b|\b \b/\b \b-\b \b\\\b \b|\b \b/\b \b-\b \b\\\b \b|\b \b/\b \b-\b \b\\\b \b|\b \b/\b \b-\b \b\\\b \b|\b \b/\b \b-\b \b\\\b \b|\b \b/\b \b-\b \b\\\b \b|\b \b/\b \b-\b \b\\\b \b|\b \b/\b \b-\b \b\\\b \b|\b \b/\b \b-\b \b\\\b \b|\b \b/\b \b-\b \b\\\b \b|\b \b/\b \b-\b \b\\\b \b|\b \b/\b \b-\b \b\\\b \b|\b \b/\b \b-\b \b\\\b \b|\b \b/\b \b-\b \b\\\b \b|\b \b/\b \bdone\n",
      "\u001b[?25h  Stored in directory: /Users/tommyalford/Library/Caches/pip/wheels/76/cd/16/ce24b24782490f8293b31b03817762f0351a241f9752038b1a\n",
      "  Running setup.py bdist_wheel for reproject ... \u001b[?25l-\b \b\\\b \b|\b \b/\b \b-\b \b\\\b \b|\b \b/\b \b-\b \b\\\b \bdone\n",
      "\u001b[?25h  Stored in directory: /Users/tommyalford/Library/Caches/pip/wheels/ee/a1/c6/2e7809ffc8f3fcea32b35b3de10f65e21681f08cf32136d428\n",
      "  Running setup.py bdist_wheel for lscsoft-glue ... \u001b[?25l-\b \b\\\b \b|\b \b/\b \b-\b \b\\\b \b|\b \b/\b \b-\b \b\\\b \b|\b \b/\b \b-\b \b\\\b \b|\b \b/\b \b-\b \b\\\b \bdone\n",
      "\u001b[?25h  Stored in directory: /Users/tommyalford/Library/Caches/pip/wheels/0e/30/cb/ce7d05d99cd637006fd6ed6754272c7dcce7bcd8122c063ef2\n",
      "Successfully built seaborn astroplan ptemcee healpy reproject lscsoft-glue\n",
      "Installing collected packages: shapely, seaborn, numpy, astropy, astroplan, lalsuite, ptemcee, tqdm, kiwisolver, matplotlib, healpy, reproject, lscsoft-glue, ligo.skymap\n",
      "  Found existing installation: seaborn 0.7.1\n",
      "\u001b[31m    DEPRECATION: Uninstalling a distutils installed project (seaborn) has been deprecated and will be removed in a future version. This is due to the fact that uninstalling a distutils project will only partially uninstall the project.\u001b[0m\n",
      "    Uninstalling seaborn-0.7.1:\n",
      "      Successfully uninstalled seaborn-0.7.1\n",
      "  Found existing installation: numpy 1.11.3\n",
      "    Uninstalling numpy-1.11.3:\n",
      "      Successfully uninstalled numpy-1.11.3\n",
      "  Found existing installation: astropy 1.3\n",
      "    Uninstalling astropy-1.3:\n",
      "      Successfully uninstalled astropy-1.3\n",
      "  Found existing installation: matplotlib 2.0.0\n",
      "    Uninstalling matplotlib-2.0.0:\n",
      "      Successfully uninstalled matplotlib-2.0.0\n",
      "Successfully installed astroplan-0.4 astropy-3.0.3 healpy-1.11.0 kiwisolver-1.0.1 lalsuite-6.48.1.dev20180608 ligo.skymap-0.0.10 lscsoft-glue-1.59.1 matplotlib-2.2.2 numpy-1.14.4 ptemcee-1.0.0 reproject-0.3.2 seaborn-0.8.1 shapely-1.6.4.post1 tqdm-4.23.4\n",
      "\u001b[33mYou are using pip version 9.0.1, however version 10.0.1 is available.\n",
      "You should consider upgrading via the 'pip install --upgrade pip' command.\u001b[0m\n"
     ]
    }
   ],
   "source": [
    "!pip install ligo.skymap"
   ]
  },
  {
   "cell_type": "code",
   "execution_count": 2,
   "metadata": {
    "collapsed": true
   },
   "outputs": [],
   "source": [
    "%matplotlib inline\n",
    "\n",
    "import numpy as np\n",
    "from matplotlib import pyplot as plt\n",
    "\n",
    "import healpy as hp\n",
    "\n",
    "from astropy.coordinates import SkyCoord\n",
    "from astropy import units as u\n",
    "\n",
    "from ligo.skymap import io\n",
    "from ligo.skymap import plot\n",
    "from ligo.skymap.postprocess import find_greedy_credible_levels"
   ]
  },
  {
   "cell_type": "markdown",
   "metadata": {},
   "source": [
    "Download and extract the relevant data."
   ]
  },
  {
   "cell_type": "code",
   "execution_count": 2,
   "metadata": {
    "collapsed": false
   },
   "outputs": [
    {
     "name": "stdout",
     "output_type": "stream",
     "text": [
      "  % Total    % Received % Xferd  Average Speed   Time    Time     Time  Current\n",
      "                                 Dload  Upload   Total   Spent    Left  Speed\n",
      "100 1035k  100 1035k    0     0  1687k      0 --:--:-- --:--:-- --:--:-- 1686k\n",
      "x figure_3/\n",
      "x figure_3/discovery_skymap.fits.gz\n",
      "x figure_3/updated_skymap.fits.gz\n",
      "x figure_3/README.md\n"
     ]
    }
   ],
   "source": [
    "public_dcc_url = 'https://dcc.ligo.org/public/0150/P1800061/009/'\n",
    "\n",
    "!curl -O {public_dcc_url}\"figure_3.tar.gz\"\n",
    "!tar -xvf figure_3.tar.gz"
   ]
  },
  {
   "cell_type": "markdown",
   "metadata": {},
   "source": [
    "Load the FITS files."
   ]
  },
  {
   "cell_type": "code",
   "execution_count": 3,
   "metadata": {
    "collapsed": true
   },
   "outputs": [],
   "source": [
    "discovery_skymap, discovery_metadata = io.read_sky_map('figure_3/discovery_skymap.fits.gz')\n",
    "updated_skymap, updated_metadata = io.read_sky_map('figure_3/updated_skymap.fits.gz')"
   ]
  },
  {
   "cell_type": "markdown",
   "metadata": {},
   "source": [
    "Location of the EM counterpart `SSS17a`."
   ]
  },
  {
   "cell_type": "code",
   "execution_count": 4,
   "metadata": {
    "collapsed": true
   },
   "outputs": [],
   "source": [
    "SSS17a = SkyCoord(197.4503*u.deg, -23.3815*u.deg)"
   ]
  },
  {
   "cell_type": "markdown",
   "metadata": {},
   "source": [
    "## Credible Intervals\n",
    "\n",
    "Calculate credible intervals from the posteriors."
   ]
  },
  {
   "cell_type": "code",
   "execution_count": 5,
   "metadata": {
    "collapsed": true
   },
   "outputs": [],
   "source": [
    "discovery_cl = find_greedy_credible_levels(discovery_skymap)\n",
    "updated_cl = find_greedy_credible_levels(updated_skymap)"
   ]
  },
  {
   "cell_type": "code",
   "execution_count": 6,
   "metadata": {
    "collapsed": false
   },
   "outputs": [
    {
     "name": "stdout",
     "output_type": "stream",
     "text": [
      "Area of 90% credible region from initial analysis: 28 sq. deg.\n",
      "Area of 90% credible region from updated analysis: 16 sq. deg.\n"
     ]
    }
   ],
   "source": [
    "discovery_area = int(np.round(np.sum(discovery_cl <= 0.9) * hp.nside2pixarea(hp.npix2nside(len(discovery_skymap)), degrees=True)))\n",
    "updated_area = int(np.round(np.sum(updated_cl <= 0.9) * hp.nside2pixarea(hp.npix2nside(len(updated_skymap)), degrees=True)))\n",
    "\n",
    "print(\"Area of 90% credible region from initial analysis: {} sq. deg.\".format(discovery_area))\n",
    "print(\"Area of 90% credible region from updated analysis: {} sq. deg.\".format(updated_area))"
   ]
  },
  {
   "cell_type": "markdown",
   "metadata": {},
   "source": [
    "## Sky Map"
   ]
  },
  {
   "cell_type": "code",
   "execution_count": 7,
   "metadata": {
    "collapsed": false
   },
   "outputs": [
    {
     "data": {
      "image/png": "[encoded data removed]",
      "text/plain": [
       "<Figure size 432x288 with 1 Axes>"
      ]
     },
     "metadata": {},
     "output_type": "display_data"
    }
   ],
   "source": [
    "fig = plt.figure()\n",
    "ax = plt.axes(projection='astro zoom', center='13h05m -23d', radius='10deg')\n",
    "\n",
    "ax.coords['ra'].set_major_formatter('hh:mm')\n",
    "\n",
    "ax.contour_hpx(discovery_cl, levels=[0.9], colors='k', alpha=0.4, linestyles='--')\n",
    "ax.contourf_hpx(updated_cl, levels=[0, 0.5, 0.9])\n",
    "\n",
    "ax.set_xlabel('Right Ascension')\n",
    "ax.set_ylabel('Declination')\n",
    "\n",
    "xytext = (SSS17a.ra.deg + 7, SSS17a.dec.deg + 3)\n",
    "ax.annotate('SSS17a', xy=(SSS17a.ra.deg, SSS17a.dec.deg), xytext=xytext, fontsize=17,\n",
    "            arrowprops=dict(arrowstyle=\"-\", shrinkA=10, shrinkB=10),\n",
    "            xycoords=ax.get_transform('world'), textcoords=ax.get_transform('world'))\n",
    "\n",
    "ax.scatter(SSS17a.ra.deg, SSS17a.dec.deg, s=100, transform=ax.get_transform('world'), marker='+', color='white');"
   ]
  }
 ],
 "metadata": {
  "kernelspec": {
   "display_name": "Python 3",
   "language": "python",
   "name": "python3"
  },
  "language_info": {
   "codemirror_mode": {
    "name": "ipython",
    "version": 3
   },
   "file_extension": ".py",
   "mimetype": "text/x-python",
   "name": "python",
   "nbconvert_exporter": "python",
   "pygments_lexer": "ipython3",
   "version": "3.6.0"
  }
 },
 "nbformat": 4,
 "nbformat_minor": 2
}
